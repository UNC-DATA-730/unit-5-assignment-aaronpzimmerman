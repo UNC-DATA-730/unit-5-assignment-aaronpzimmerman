{
 "cells": [
  {
   "cell_type": "markdown",
   "id": "df0d234f-1e1a-4495-8208-e177e7f527aa",
   "metadata": {},
   "source": [
    "Complete the exercises below For **Assignment #5**."
   ]
  },
  {
   "cell_type": "markdown",
   "id": "dda5a856-c272-4fdd-8670-d66a0cf2c7e4",
   "metadata": {},
   "source": [
    "In this exercise, we are building a logistic regression classification model. We'll work with the [Pima Indians Diabetes Database](https://www.kaggle.com/datasets/uciml/pima-indians-diabetes-database).  "
   ]
  },
  {
   "cell_type": "markdown",
   "id": "c123800d-7139-4c31-ba42-82b8a8eb7ff5",
   "metadata": {},
   "source": [
    "Load the `tidymodels` library. "
   ]
  },
  {
   "cell_type": "code",
   "execution_count": 1,
   "id": "047c6e53-68f8-466b-ae3c-1bc19e288f27",
   "metadata": {
    "vscode": {
     "languageId": "r"
    }
   },
   "outputs": [
    {
     "name": "stderr",
     "output_type": "stream",
     "text": [
      "── \u001b[1mAttaching packages\u001b[22m ────────────────────────────────────── tidymodels 1.3.0 ──\n",
      "\n",
      "\u001b[32m✔\u001b[39m \u001b[34mbroom       \u001b[39m 1.0.9     \u001b[32m✔\u001b[39m \u001b[34mrecipes     \u001b[39m 1.3.1\n",
      "\u001b[32m✔\u001b[39m \u001b[34mdials       \u001b[39m 1.4.1     \u001b[32m✔\u001b[39m \u001b[34mrsample     \u001b[39m 1.3.1\n",
      "\u001b[32m✔\u001b[39m \u001b[34mdplyr       \u001b[39m 1.1.4     \u001b[32m✔\u001b[39m \u001b[34mtibble      \u001b[39m 3.3.0\n",
      "\u001b[32m✔\u001b[39m \u001b[34mggplot2     \u001b[39m 3.5.2     \u001b[32m✔\u001b[39m \u001b[34mtidyr       \u001b[39m 1.3.1\n",
      "\u001b[32m✔\u001b[39m \u001b[34minfer       \u001b[39m 1.0.9     \u001b[32m✔\u001b[39m \u001b[34mtune        \u001b[39m 1.3.0\n",
      "\u001b[32m✔\u001b[39m \u001b[34mmodeldata   \u001b[39m 1.5.1     \u001b[32m✔\u001b[39m \u001b[34mworkflows   \u001b[39m 1.2.0\n",
      "\u001b[32m✔\u001b[39m \u001b[34mparsnip     \u001b[39m 1.3.2     \u001b[32m✔\u001b[39m \u001b[34mworkflowsets\u001b[39m 1.1.1\n",
      "\u001b[32m✔\u001b[39m \u001b[34mpurrr       \u001b[39m 1.1.0     \u001b[32m✔\u001b[39m \u001b[34myardstick   \u001b[39m 1.3.2\n",
      "\n",
      "── \u001b[1mConflicts\u001b[22m ───────────────────────────────────────── tidymodels_conflicts() ──\n",
      "\u001b[31m✖\u001b[39m \u001b[34mpurrr\u001b[39m::\u001b[32mdiscard()\u001b[39m masks \u001b[34mscales\u001b[39m::discard()\n",
      "\u001b[31m✖\u001b[39m \u001b[34mdplyr\u001b[39m::\u001b[32mfilter()\u001b[39m  masks \u001b[34mstats\u001b[39m::filter()\n",
      "\u001b[31m✖\u001b[39m \u001b[34mdplyr\u001b[39m::\u001b[32mlag()\u001b[39m     masks \u001b[34mstats\u001b[39m::lag()\n",
      "\u001b[31m✖\u001b[39m \u001b[34mrecipes\u001b[39m::\u001b[32mstep()\u001b[39m  masks \u001b[34mstats\u001b[39m::step()\n",
      "\n"
     ]
    }
   ],
   "source": [
    "\n",
    "library('tidymodels')\n"
   ]
  },
  {
   "cell_type": "markdown",
   "id": "c6ef6a10-5b45-4857-b776-a81f92a0b682",
   "metadata": {},
   "source": [
    "The data is located in your homework directory in the `diabetes.csv` file. Read in the data by running the following cell. We are \"splitting\" the data into training and testing sets. We will evaluate our model's performance with the test set."
   ]
  },
  {
   "cell_type": "code",
   "execution_count": 16,
   "id": "e68fb274-ddbe-4ae0-a927-2c4d57d3b31a",
   "metadata": {
    "vscode": {
     "languageId": "r"
    }
   },
   "outputs": [
    {
     "name": "stderr",
     "output_type": "stream",
     "text": [
      "\u001b[1mRows: \u001b[22m\u001b[34m768\u001b[39m \u001b[1mColumns: \u001b[22m\u001b[34m9\u001b[39m\n",
      "\u001b[36m──\u001b[39m \u001b[1mColumn specification\u001b[22m \u001b[36m────────────────────────────────────────────────────────\u001b[39m\n",
      "\u001b[1mDelimiter:\u001b[22m \",\"\n",
      "\u001b[32mdbl\u001b[39m (9): Pregnancies, Glucose, BloodPressure, SkinThickness, Insulin, BMI, D...\n",
      "\n",
      "\u001b[36mℹ\u001b[39m Use `spec()` to retrieve the full column specification for this data.\n",
      "\u001b[36mℹ\u001b[39m Specify the column types or set `show_col_types = FALSE` to quiet this message.\n"
     ]
    }
   ],
   "source": [
    "diabetes = readr::read_csv('diabetes.csv') |> mutate(Outcome = factor(Outcome))\n",
    "\n",
    "split = initial_split(diabetes, strata = Outcome)\n",
    "\n",
    "diabetes_train = training(split)\n",
    "diabetes_test = testing(split)\n"
   ]
  },
  {
   "cell_type": "markdown",
   "id": "8b09de69-a735-4176-9eae-39479d2a3836",
   "metadata": {},
   "source": [
    "Glimpse the `diabetes_train` table."
   ]
  },
  {
   "cell_type": "code",
   "execution_count": 3,
   "id": "31877cc1-ae94-4002-9c95-30244b8df393",
   "metadata": {
    "vscode": {
     "languageId": "r"
    }
   },
   "outputs": [
    {
     "name": "stdout",
     "output_type": "stream",
     "text": [
      "Rows: 576\n",
      "Columns: 9\n",
      "$ Pregnancies              \u001b[3m\u001b[90m<dbl>\u001b[39m\u001b[23m 1\u001b[90m, \u001b[39m1\u001b[90m, \u001b[39m4\u001b[90m, \u001b[39m10\u001b[90m, \u001b[39m1\u001b[90m, \u001b[39m3\u001b[90m, \u001b[39m8\u001b[90m, \u001b[39m1\u001b[90m, \u001b[39m13\u001b[90m, \u001b[39m6\u001b[90m, \u001b[39m10\u001b[90m, \u001b[39m4\u001b[90m, \u001b[39m3\u001b[90m, \u001b[39m7\u001b[90m, \u001b[39m…\n",
      "$ Glucose                  \u001b[3m\u001b[90m<dbl>\u001b[39m\u001b[23m 85\u001b[90m, \u001b[39m89\u001b[90m, \u001b[39m110\u001b[90m, \u001b[39m139\u001b[90m, \u001b[39m103\u001b[90m, \u001b[39m126\u001b[90m, \u001b[39m99\u001b[90m, \u001b[39m97\u001b[90m, \u001b[39m145\u001b[90m, \u001b[39m92\u001b[90m, \u001b[39m…\n",
      "$ BloodPressure            \u001b[3m\u001b[90m<dbl>\u001b[39m\u001b[23m 66\u001b[90m, \u001b[39m66\u001b[90m, \u001b[39m92\u001b[90m, \u001b[39m80\u001b[90m, \u001b[39m30\u001b[90m, \u001b[39m88\u001b[90m, \u001b[39m84\u001b[90m, \u001b[39m66\u001b[90m, \u001b[39m82\u001b[90m, \u001b[39m92\u001b[90m, \u001b[39m78\u001b[90m, \u001b[39m6…\n",
      "$ SkinThickness            \u001b[3m\u001b[90m<dbl>\u001b[39m\u001b[23m 29\u001b[90m, \u001b[39m23\u001b[90m, \u001b[39m0\u001b[90m, \u001b[39m0\u001b[90m, \u001b[39m38\u001b[90m, \u001b[39m41\u001b[90m, \u001b[39m0\u001b[90m, \u001b[39m15\u001b[90m, \u001b[39m19\u001b[90m, \u001b[39m0\u001b[90m, \u001b[39m31\u001b[90m, \u001b[39m33\u001b[90m, \u001b[39m2…\n",
      "$ Insulin                  \u001b[3m\u001b[90m<dbl>\u001b[39m\u001b[23m 0\u001b[90m, \u001b[39m94\u001b[90m, \u001b[39m0\u001b[90m, \u001b[39m0\u001b[90m, \u001b[39m83\u001b[90m, \u001b[39m235\u001b[90m, \u001b[39m0\u001b[90m, \u001b[39m140\u001b[90m, \u001b[39m110\u001b[90m, \u001b[39m0\u001b[90m, \u001b[39m0\u001b[90m, \u001b[39m192\u001b[90m,\u001b[39m…\n",
      "$ BMI                      \u001b[3m\u001b[90m<dbl>\u001b[39m\u001b[23m 26.6\u001b[90m, \u001b[39m28.1\u001b[90m, \u001b[39m37.6\u001b[90m, \u001b[39m27.1\u001b[90m, \u001b[39m43.3\u001b[90m, \u001b[39m39.3\u001b[90m, \u001b[39m35.4\u001b[90m, \u001b[39m23.…\n",
      "$ DiabetesPedigreeFunction \u001b[3m\u001b[90m<dbl>\u001b[39m\u001b[23m 0.351\u001b[90m, \u001b[39m0.167\u001b[90m, \u001b[39m0.191\u001b[90m, \u001b[39m1.441\u001b[90m, \u001b[39m0.183\u001b[90m, \u001b[39m0.704\u001b[90m, \u001b[39m0.3…\n",
      "$ Age                      \u001b[3m\u001b[90m<dbl>\u001b[39m\u001b[23m 31\u001b[90m, \u001b[39m21\u001b[90m, \u001b[39m30\u001b[90m, \u001b[39m57\u001b[90m, \u001b[39m33\u001b[90m, \u001b[39m27\u001b[90m, \u001b[39m50\u001b[90m, \u001b[39m22\u001b[90m, \u001b[39m57\u001b[90m, \u001b[39m28\u001b[90m, \u001b[39m45\u001b[90m, \u001b[39m3…\n",
      "$ Outcome                  \u001b[3m\u001b[90m<fct>\u001b[39m\u001b[23m 0\u001b[90m, \u001b[39m0\u001b[90m, \u001b[39m0\u001b[90m, \u001b[39m0\u001b[90m, \u001b[39m0\u001b[90m, \u001b[39m0\u001b[90m, \u001b[39m0\u001b[90m, \u001b[39m0\u001b[90m, \u001b[39m0\u001b[90m, \u001b[39m0\u001b[90m, \u001b[39m0\u001b[90m, \u001b[39m0\u001b[90m, \u001b[39m0\u001b[90m, \u001b[39m0\u001b[90m, \u001b[39m0\u001b[90m, \u001b[39m…\n"
     ]
    }
   ],
   "source": [
    "glimpse(diabetes_train)\n"
   ]
  },
  {
   "cell_type": "markdown",
   "id": "c061892f-14af-4342-8098-6799d6117391",
   "metadata": {},
   "source": [
    "❓ Which variable is suitable as the \"outcome\" in a logistic regression model?\n",
    "\n",
    "**Answer:**"
   ]
  },
  {
   "cell_type": "markdown",
   "id": "acd3a70e-6107-40c1-85f4-0c5e8563c85c",
   "metadata": {},
   "source": [
    "The `Outcome` variable is suitable for a logistic regression model because its outputs are discrete (0 or 1)."
   ]
  },
  {
   "cell_type": "markdown",
   "id": "16827b78-d5b4-4037-b89b-fa2ed13f0968",
   "metadata": {},
   "source": [
    "❓ Navigate to [Kaggle page](https://www.kaggle.com/datasets/mathchi/diabetes-data-set) for this dataset. Find descriptions for the `Glucose` and `BMI` columns. Add these descriptions to the [Markdown table](https://www.markdownguide.org/extended-syntax/#tables) below."
   ]
  },
  {
   "cell_type": "markdown",
   "id": "8025ad75-2a7b-43cd-9df4-77677abdf492",
   "metadata": {},
   "source": [
    "| Column name | Description |\n",
    "| :---------- | :---------- |\n",
    "| Glucose     |    Plasma glucose concentration a 2 hours in an oral glucose tolerance test         |\n",
    "| BMI         |    Body mass index (weight in kg/(height in m)^2)         |"
   ]
  },
  {
   "cell_type": "markdown",
   "id": "1ad31340-2c33-48a6-9a5b-468b970e670c",
   "metadata": {},
   "source": [
    "Make a bar chart showing the frequency of each \"outcome\" in the `Outcome` column from your `diabetes_train` data."
   ]
  },
  {
   "cell_type": "code",
   "execution_count": 4,
   "id": "579fb58c-0b0d-4fff-9b0e-826d38247a29",
   "metadata": {
    "vscode": {
     "languageId": "r"
    }
   },
   "outputs": [
    {
     "data": {
      "image/png": "[encoded data removed]",
      "text/plain": [
       "plot without title"
      ]
     },
     "metadata": {
      "image/png": {
       "height": 420,
       "width": 420
      }
     },
     "output_type": "display_data"
    }
   ],
   "source": [
    "ggplot(diabetes_train, aes(x = Outcome)) +\n",
    "    geom_bar()\n",
    "    "
   ]
  },
  {
   "cell_type": "markdown",
   "id": "cc6a0694-256c-45a1-bcf5-bdebeb472a7b",
   "metadata": {},
   "source": [
    "❓ Is the data balanced? I.e. do we have equal counts of each outcome?\n",
    "\n",
    "**Answer:**"
   ]
  },
  {
   "cell_type": "markdown",
   "id": "f2da066b-d46a-4f7f-afe8-37c8a9439164",
   "metadata": {
    "vscode": {
     "languageId": "r"
    }
   },
   "source": [
    "The data is not balanced. The outcome of zero (assuming to mean no diabetes because the kaggle page does not indicate) occurs almost twice as much as 1. \n",
    "\n"
   ]
  },
  {
   "cell_type": "markdown",
   "id": "f7cbe99d-468c-45fa-83ba-7a372b1557e5",
   "metadata": {},
   "source": [
    "Run the code below to create a table for plotting the predictors we will use in our model: `Glucose` and `BMI`. "
   ]
  },
  {
   "cell_type": "code",
   "execution_count": 13,
   "id": "f65b95e2-0a95-4684-8017-30ae1b8bee5f",
   "metadata": {
    "vscode": {
     "languageId": "r"
    }
   },
   "outputs": [
    {
     "data": {
      "text/html": [
       "<table class=\"dataframe\">\n",
       "<caption>A tibble: 6 × 3</caption>\n",
       "<thead>\n",
       "\t<tr><th scope=col>Outcome</th><th scope=col>name</th><th scope=col>value</th></tr>\n",
       "\t<tr><th scope=col>&lt;fct&gt;</th><th scope=col>&lt;chr&gt;</th><th scope=col>&lt;dbl&gt;</th></tr>\n",
       "</thead>\n",
       "<tbody>\n",
       "\t<tr><td>0</td><td>Glucose</td><td> 85.0</td></tr>\n",
       "\t<tr><td>0</td><td>BMI    </td><td> 26.6</td></tr>\n",
       "\t<tr><td>0</td><td>Glucose</td><td> 89.0</td></tr>\n",
       "\t<tr><td>0</td><td>BMI    </td><td> 28.1</td></tr>\n",
       "\t<tr><td>0</td><td>Glucose</td><td>110.0</td></tr>\n",
       "\t<tr><td>0</td><td>BMI    </td><td> 37.6</td></tr>\n",
       "</tbody>\n",
       "</table>\n"
      ],
      "text/latex": [
       "A tibble: 6 × 3\n",
       "\\begin{tabular}{lll}\n",
       " Outcome & name & value\\\\\n",
       " <fct> & <chr> & <dbl>\\\\\n",
       "\\hline\n",
       "\t 0 & Glucose &  85.0\\\\\n",
       "\t 0 & BMI     &  26.6\\\\\n",
       "\t 0 & Glucose &  89.0\\\\\n",
       "\t 0 & BMI     &  28.1\\\\\n",
       "\t 0 & Glucose & 110.0\\\\\n",
       "\t 0 & BMI     &  37.6\\\\\n",
       "\\end{tabular}\n"
      ],
      "text/markdown": [
       "\n",
       "A tibble: 6 × 3\n",
       "\n",
       "| Outcome &lt;fct&gt; | name &lt;chr&gt; | value &lt;dbl&gt; |\n",
       "|---|---|---|\n",
       "| 0 | Glucose |  85.0 |\n",
       "| 0 | BMI     |  26.6 |\n",
       "| 0 | Glucose |  89.0 |\n",
       "| 0 | BMI     |  28.1 |\n",
       "| 0 | Glucose | 110.0 |\n",
       "| 0 | BMI     |  37.6 |\n",
       "\n"
      ],
      "text/plain": [
       "  Outcome name    value\n",
       "1 0       Glucose  85.0\n",
       "2 0       BMI      26.6\n",
       "3 0       Glucose  89.0\n",
       "4 0       BMI      28.1\n",
       "5 0       Glucose 110.0\n",
       "6 0       BMI      37.6"
      ]
     },
     "metadata": {},
     "output_type": "display_data"
    }
   ],
   "source": [
    "plot_df = diabetes_train |>\n",
    "    select(Outcome, Glucose, BMI) |>\n",
    "    pivot_longer(cols = c(Glucose, BMI))\n",
    "\n",
    "plot_df |> head()\n"
   ]
  },
  {
   "cell_type": "markdown",
   "id": "67ccafeb-cd48-41cf-b3b8-d027aba80966",
   "metadata": {},
   "source": [
    "Using `plot_df`, make a chart showing the relationship of `Glucose` and `BMI` with `Outcome`. \n",
    "\n",
    "- use `geom_jitter` for your \"geom\"\n",
    "- `facet_wrap` your chart by the `name` variable. (e.g. `facet_wrap(~name, ncol = 2, scales = 'free_x')`)"
   ]
  },
  {
   "cell_type": "code",
   "execution_count": 6,
   "id": "d8025f46-2434-4b03-8f44-39d89f905c25",
   "metadata": {
    "vscode": {
     "languageId": "r"
    }
   },
   "outputs": [
    {
     "data": {
      "image/png": "[encoded data removed]",
      "text/plain": [
       "plot without title"
      ]
     },
     "metadata": {
      "image/png": {
       "height": 420,
       "width": 420
      }
     },
     "output_type": "display_data"
    }
   ],
   "source": [
    "ggplot(plot_df, aes(x = value, y = Outcome, color = name)) +\n",
    "    geom_jitter() +\n",
    "    facet_wrap(~name, ncol = 2, scales = 'free_x')\n",
    "    "
   ]
  },
  {
   "cell_type": "markdown",
   "id": "29a0eccb-f3d5-49f5-b397-92b35b45e514",
   "metadata": {},
   "source": [
    "❓ What happens when you remove the `scales = 'free_x'` argument from the `facet_wrap` function?\n",
    "\n",
    "**Answer:**"
   ]
  },
  {
   "cell_type": "markdown",
   "id": "ce75916b-76c8-4dfc-8829-3a9c97212b5d",
   "metadata": {},
   "source": [
    "This causes the x-axis to be incremented the same on both subplots. Due to BMI having lower values, the BMI subplot is squished and difficult to analyze."
   ]
  },
  {
   "cell_type": "markdown",
   "id": "935e60ea-5f33-4eba-97c0-59f0a3792ecf",
   "metadata": {},
   "source": [
    "Using your training data, build logistic regression model of `Outcome` with `BMI` and `Glucose` as predictors. \n",
    "- Use \"glm\" for you engine\n",
    "- The formula for your fit function will be `Outcome ~ BMI + Glucose`"
   ]
  },
  {
   "cell_type": "code",
   "execution_count": 7,
   "id": "27dddfd6-efb4-4edf-a9e4-7e6239ef0216",
   "metadata": {
    "vscode": {
     "languageId": "r"
    }
   },
   "outputs": [
    {
     "data": {
      "text/plain": [
       "parsnip model object\n",
       "\n",
       "\n",
       "Call:  stats::glm(formula = Outcome ~ BMI + Glucose, family = stats::binomial, \n",
       "    data = data)\n",
       "\n",
       "Coefficients:\n",
       "(Intercept)          BMI      Glucose  \n",
       "   -7.49118      0.06228      0.03863  \n",
       "\n",
       "Degrees of Freedom: 575 Total (i.e. Null);  573 Residual\n",
       "Null Deviance:\t    745.1 \n",
       "Residual Deviance: 569.3 \tAIC: 575.3"
      ]
     },
     "metadata": {},
     "output_type": "display_data"
    }
   ],
   "source": [
    "mod = logistic_reg() |> set_engine('glm')\n",
    "\n",
    "mod_fit = mod |> fit(Outcome ~ BMI + Glucose, diabetes_train)\n",
    "\n",
    "mod_fit\n"
   ]
  },
  {
   "cell_type": "markdown",
   "id": "9a1aa2d0-b6b4-42ad-8ac5-17c90e4bb216",
   "metadata": {},
   "source": [
    "Using `augment` with your fitted model and the `diabetes_test` data as arguments, create a new dataset called `diabetes_test_wPred` that is the `diabetes_test` table including predictions from your model. "
   ]
  },
  {
   "cell_type": "code",
   "execution_count": 10,
   "id": "36e7fbfa-b71a-4175-bcc1-e565a748c124",
   "metadata": {
    "vscode": {
     "languageId": "r"
    }
   },
   "outputs": [
    {
     "name": "stdout",
     "output_type": "stream",
     "text": [
      "Rows: 192\n",
      "Columns: 12\n",
      "$ .pred_class              \u001b[3m\u001b[90m<fct>\u001b[39m\u001b[23m 0\u001b[90m, \u001b[39m0\u001b[90m, \u001b[39m0\u001b[90m, \u001b[39m0\u001b[90m, \u001b[39m1\u001b[90m, \u001b[39m0\u001b[90m, \u001b[39m0\u001b[90m, \u001b[39m0\u001b[90m, \u001b[39m0\u001b[90m, \u001b[39m0\u001b[90m, \u001b[39m0\u001b[90m, \u001b[39m0\u001b[90m, \u001b[39m0\u001b[90m, \u001b[39m0\u001b[90m, \u001b[39m0\u001b[90m, \u001b[39m…\n",
      "$ .pred_0                  \u001b[3m\u001b[90m<dbl>\u001b[39m\u001b[23m 0.80462776\u001b[90m, \u001b[39m0.70056135\u001b[90m, \u001b[39m0.52001901\u001b[90m, \u001b[39m0.8196581…\n",
      "$ .pred_1                  \u001b[3m\u001b[90m<dbl>\u001b[39m\u001b[23m 0.19537224\u001b[90m, \u001b[39m0.29943865\u001b[90m, \u001b[39m0.47998099\u001b[90m, \u001b[39m0.1803418…\n",
      "$ Pregnancies              \u001b[3m\u001b[90m<dbl>\u001b[39m\u001b[23m 5\u001b[90m, \u001b[39m10\u001b[90m, \u001b[39m0\u001b[90m, \u001b[39m7\u001b[90m, \u001b[39m7\u001b[90m, \u001b[39m9\u001b[90m, \u001b[39m5\u001b[90m, \u001b[39m5\u001b[90m, \u001b[39m3\u001b[90m, \u001b[39m11\u001b[90m, \u001b[39m7\u001b[90m, \u001b[39m8\u001b[90m, \u001b[39m7\u001b[90m, \u001b[39m5\u001b[90m, \u001b[39m4…\n",
      "$ Glucose                  \u001b[3m\u001b[90m<dbl>\u001b[39m\u001b[23m 116\u001b[90m, \u001b[39m115\u001b[90m, \u001b[39m118\u001b[90m, \u001b[39m107\u001b[90m, \u001b[39m196\u001b[90m, \u001b[39m119\u001b[90m, \u001b[39m117\u001b[90m, \u001b[39m109\u001b[90m, \u001b[39m88\u001b[90m, \u001b[39m1…\n",
      "$ BloodPressure            \u001b[3m\u001b[90m<dbl>\u001b[39m\u001b[23m 74\u001b[90m, \u001b[39m0\u001b[90m, \u001b[39m84\u001b[90m, \u001b[39m74\u001b[90m, \u001b[39m90\u001b[90m, \u001b[39m80\u001b[90m, \u001b[39m92\u001b[90m, \u001b[39m75\u001b[90m, \u001b[39m58\u001b[90m, \u001b[39m76\u001b[90m, \u001b[39m66\u001b[90m, \u001b[39m72…\n",
      "$ SkinThickness            \u001b[3m\u001b[90m<dbl>\u001b[39m\u001b[23m 0\u001b[90m, \u001b[39m0\u001b[90m, \u001b[39m47\u001b[90m, \u001b[39m0\u001b[90m, \u001b[39m0\u001b[90m, \u001b[39m35\u001b[90m, \u001b[39m0\u001b[90m, \u001b[39m26\u001b[90m, \u001b[39m11\u001b[90m, \u001b[39m0\u001b[90m, \u001b[39m32\u001b[90m, \u001b[39m0\u001b[90m, \u001b[39m0\u001b[90m, \u001b[39m2…\n",
      "$ Insulin                  \u001b[3m\u001b[90m<dbl>\u001b[39m\u001b[23m 0\u001b[90m, \u001b[39m0\u001b[90m, \u001b[39m230\u001b[90m, \u001b[39m0\u001b[90m, \u001b[39m0\u001b[90m, \u001b[39m0\u001b[90m, \u001b[39m0\u001b[90m, \u001b[39m0\u001b[90m, \u001b[39m54\u001b[90m, \u001b[39m0\u001b[90m, \u001b[39m0\u001b[90m, \u001b[39m0\u001b[90m, \u001b[39m0\u001b[90m, \u001b[39m0\u001b[90m, \u001b[39m…\n",
      "$ BMI                      \u001b[3m\u001b[90m<dbl>\u001b[39m\u001b[23m 25.6\u001b[90m, \u001b[39m35.3\u001b[90m, \u001b[39m45.8\u001b[90m, \u001b[39m29.6\u001b[90m, \u001b[39m39.8\u001b[90m, \u001b[39m29.0\u001b[90m, \u001b[39m34.1\u001b[90m, \u001b[39m36.…\n",
      "$ DiabetesPedigreeFunction \u001b[3m\u001b[90m<dbl>\u001b[39m\u001b[23m 0.201\u001b[90m, \u001b[39m0.134\u001b[90m, \u001b[39m0.551\u001b[90m, \u001b[39m0.254\u001b[90m, \u001b[39m0.451\u001b[90m, \u001b[39m0.263\u001b[90m, \u001b[39m0.3…\n",
      "$ Age                      \u001b[3m\u001b[90m<dbl>\u001b[39m\u001b[23m 30\u001b[90m, \u001b[39m29\u001b[90m, \u001b[39m31\u001b[90m, \u001b[39m31\u001b[90m, \u001b[39m41\u001b[90m, \u001b[39m29\u001b[90m, \u001b[39m38\u001b[90m, \u001b[39m60\u001b[90m, \u001b[39m22\u001b[90m, \u001b[39m35\u001b[90m, \u001b[39m31\u001b[90m, \u001b[39m3…\n",
      "$ Outcome                  \u001b[3m\u001b[90m<fct>\u001b[39m\u001b[23m 0\u001b[90m, \u001b[39m0\u001b[90m, \u001b[39m1\u001b[90m, \u001b[39m1\u001b[90m, \u001b[39m1\u001b[90m, \u001b[39m1\u001b[90m, \u001b[39m0\u001b[90m, \u001b[39m0\u001b[90m, \u001b[39m0\u001b[90m, \u001b[39m0\u001b[90m, \u001b[39m1\u001b[90m, \u001b[39m1\u001b[90m, \u001b[39m1\u001b[90m, \u001b[39m0\u001b[90m, \u001b[39m0\u001b[90m, \u001b[39m…\n"
     ]
    }
   ],
   "source": [
    "diabetes_test_wPred <- augment(mod_fit, diabetes_test)\n",
    "\n",
    "glimpse(diabetes_test_wPred)\n"
   ]
  },
  {
   "cell_type": "markdown",
   "id": "f35cf7da-ca1e-42d3-a27b-e79193a1ccfd",
   "metadata": {},
   "source": [
    "Run the code below to generate a confusion matrix for your model predictions. \n",
    "\n",
    "(❗️Hint: See Table 4.4 from [*Introduction to Statistical Learning (Version 2)*](https://www.statlearning.com/) for an example confusion matrix.)"
   ]
  },
  {
   "cell_type": "code",
   "execution_count": 11,
   "id": "fb3bfae0-9d17-48a0-bde7-4891f91a07aa",
   "metadata": {
    "vscode": {
     "languageId": "r"
    }
   },
   "outputs": [
    {
     "data": {
      "text/plain": [
       "          Truth\n",
       "Prediction   0   1\n",
       "         0 112  30\n",
       "         1  13  37"
      ]
     },
     "metadata": {},
     "output_type": "display_data"
    }
   ],
   "source": [
    "diabetes_test_wPred = augment(mod_fit, new_data = diabetes_test)\n",
    "\n",
    "diabetes_test_wPred |> conf_mat(Outcome, .pred_class)\n"
   ]
  },
  {
   "cell_type": "markdown",
   "id": "7dc9a16d-9fda-4fcc-8e62-52c3e5849e26",
   "metadata": {},
   "source": [
    "❓ Based on the confusion matrix above, \n",
    "- How many individuals had diabetes in your test data?\n",
    "- Of those that actually had diabetes, how many were predicted to have diabetes by your model?\n",
    "- How many individuals predicted to have diabetes did not have diabetes?\n",
    "\n",
    "**Answer:**"
   ]
  },
  {
   "cell_type": "markdown",
   "id": "a759514d-7d82-4c40-9f8e-dab37b73e59a",
   "metadata": {},
   "source": [
    "67 individuals had diabetes. 37 were correctly predicted. 13 individuals predicted to have diabetes did not have diabetes.\n",
    "\n"
   ]
  }
 ],
 "metadata": {
  "kernelspec": {
   "display_name": "R (data730-lecture)",
   "language": "R",
   "name": "ir"
  },
  "language_info": {
   "codemirror_mode": "r",
   "file_extension": ".r",
   "mimetype": "text/x-r-source",
   "name": "R",
   "pygments_lexer": "r",
   "version": "4.3.3"
  }
 },
 "nbformat": 4,
 "nbformat_minor": 5
}
